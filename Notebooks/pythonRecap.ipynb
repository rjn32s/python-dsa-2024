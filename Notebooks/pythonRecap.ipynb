{
 "cells": [
  {
   "cell_type": "code",
   "execution_count": 2,
   "metadata": {},
   "outputs": [
    {
     "name": "stdout",
     "output_type": "stream",
     "text": [
      "Hello world\n"
     ]
    }
   ],
   "source": [
    "print(\"Hello world\")"
   ]
  },
  {
   "cell_type": "markdown",
   "metadata": {},
   "source": [
    "# GCD or HCF"
   ]
  },
  {
   "cell_type": "code",
   "execution_count": 6,
   "metadata": {},
   "outputs": [
    {
     "data": {
      "text/plain": [
       "4"
      ]
     },
     "execution_count": 6,
     "metadata": {},
     "output_type": "execute_result"
    }
   ],
   "source": [
    "# Gcd problem HCF \n",
    "\n",
    "def gcd(m,n):\n",
    "    # cf = [] # List of common factors\n",
    "    mrcf = 1\n",
    "    for i in range(1, min(m,n) + 1):\n",
    "        if (m%i) == 0 and (n%i) == 0:\n",
    "            # cf.append(i)\n",
    "            mrcf = i\n",
    "    return mrcf\n",
    "\n",
    "gcd(8,12) "
   ]
  },
  {
   "cell_type": "markdown",
   "metadata": {},
   "source": [
    "# Checking Prime number\n",
    "\n"
   ]
  },
  {
   "cell_type": "code",
   "execution_count": null,
   "metadata": {},
   "outputs": [],
   "source": [
    "import math\n",
    "def factors(n):\n",
    "    fl = [] # factor list\n",
    "    for i in range(1, n+1):\n",
    "        if (n%i) == 0:\n",
    "            fl.append(i)\n",
    "    return fl\n",
    "\n",
    "def prime(m):\n",
    "    return len(factors(m)) == 2\n",
    "\n",
    "def firstprimes(m):\n",
    "    (count, i , pl) = (0, 1, [])\n",
    "    while (count < m):\n",
    "        if prime(i):\n",
    "            (count, pl) = (count+1, pl+[i])\n",
    "        i = i+1\n",
    "    return pl\n",
    "number = 11\n",
    "print(f\"Is prime {number} : {len(factors(number))==2}\")\n",
    "firstprimes(50)"
   ]
  },
  {
   "cell_type": "code",
   "execution_count": 21,
   "metadata": {},
   "outputs": [
    {
     "data": {
      "text/plain": [
       "{1: 1, 2: 35, 4: 40, 6: 44, 8: 15, 14: 7, 10: 16, 12: 7, 18: 1, 20: 1}"
      ]
     },
     "execution_count": 21,
     "metadata": {},
     "output_type": "execute_result"
    }
   ],
   "source": [
    "def primediffs(n):\n",
    "    lastprime = 2\n",
    "    pd = {}\n",
    "\n",
    "    for i in range(3, n+1):\n",
    "        if prime(i):\n",
    "            d = i - lastprime\n",
    "            lastprime = i\n",
    "\n",
    "            if d in pd.keys():\n",
    "                pd[d] = pd[d] + 1\n",
    "            else:\n",
    "                pd[d] = 1\n",
    "    return pd\n",
    "\n",
    "primediffs(1000)"
   ]
  }
 ],
 "metadata": {
  "kernelspec": {
   "display_name": "Python 3",
   "language": "python",
   "name": "python3"
  },
  "language_info": {
   "codemirror_mode": {
    "name": "ipython",
    "version": 3
   },
   "file_extension": ".py",
   "mimetype": "text/x-python",
   "name": "python",
   "nbconvert_exporter": "python",
   "pygments_lexer": "ipython3",
   "version": "3.10.13"
  }
 },
 "nbformat": 4,
 "nbformat_minor": 2
}
